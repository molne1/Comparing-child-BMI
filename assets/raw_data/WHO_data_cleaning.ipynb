{
 "cells": [
  {
   "cell_type": "code",
   "execution_count": 1,
   "id": "e47fd925",
   "metadata": {},
   "outputs": [],
   "source": [
    "import pandas as pd\n",
    "from datetime import datetime, timedelta\n",
    "TODAYS_DATE = datetime.now().strftime(\"%Y-%m-%d\")"
   ]
  },
  {
   "cell_type": "markdown",
   "id": "7d9dd734",
   "metadata": {},
   "source": [
    "# WHO\n"
   ]
  },
  {
   "cell_type": "code",
   "execution_count": 2,
   "id": "67c90020",
   "metadata": {},
   "outputs": [],
   "source": [
    "# WHO <5 years  \n",
    "WHO5_boy = pd.read_excel(\"WHO_original_references/bfa-boys-zscore-expanded-tables.xlsx\")  \n",
    "WHO5_girl =  pd.read_excel(\"WHO_original_references/bfa-girls-zscore-expanded-tables.xlsx\") \n",
    "\n",
    "#  WHO 5-19\n",
    "WHO19_boy = pd.read_excel(\"WHO_original_references/bmi-boys-z-who-2007-exp.xlsx\")\n",
    "WHO19_girl = pd.read_excel(\"WHO_original_references/bmi-girls-z-who-2007-exp.xlsx\")"
   ]
  },
  {
   "cell_type": "code",
   "execution_count": 3,
   "id": "06e6c9a5",
   "metadata": {},
   "outputs": [
    {
     "name": "stdout",
     "output_type": "stream",
     "text": [
      "[30, 61, 91, 121, 152, 182, 212, 243, 273, 303, 334, 364, 395, 425, 455, 486, 516, 546, 577, 607, 637, 668, 698, 728, 759, 789, 819, 850, 880, 910, 941, 971, 1001, 1032, 1062, 1093, 1123, 1153, 1184, 1214, 1244, 1275, 1305, 1335, 1366, 1396, 1426, 1457, 1487, 1517, 1548, 1578, 1608, 1639, 1669, 1699, 1730, 1760, 1791, 1821]\n",
      "[0, 30, 61, 91, 121, 152, 182, 212, 243, 273, 303, 334, 364, 395, 425, 455, 486, 516, 546, 577, 607, 637, 668, 698, 728, 759, 789, 819, 850, 880, 910, 941, 971, 1001, 1032, 1062, 1093, 1123, 1153, 1184, 1214, 1244, 1275, 1305, 1335, 1366, 1396, 1426, 1457, 1487, 1517, 1548, 1578, 1608, 1639, 1669, 1699, 1730, 1760, 1791, 1821]\n"
     ]
    }
   ],
   "source": [
    "# convert WHO5 Days to months\n",
    "month_conversion = 30.3475 \n",
    "months, rows_to_get_no_zero = [], []\n",
    "for i in range(0, 60):\n",
    "    month = i + 1\n",
    "    months.append(month)\n",
    "    \n",
    "    month_in_df = int(round(month_conversion * month, 0))\n",
    "    rows_to_get_no_zero.append(month_in_df)\n",
    "    \n",
    "    \n",
    "print(rows_to_get_no_zero)\n",
    "x = 0\n",
    "xs = rows_to_get_no_zero\n",
    "rows_to_get =[x] + xs\n",
    "print(rows_to_get)"
   ]
  },
  {
   "cell_type": "code",
   "execution_count": 4,
   "id": "d86473e6",
   "metadata": {},
   "outputs": [],
   "source": [
    "# Extract months \n",
    "WHO5_girl_months = WHO5_girl[WHO5_girl['Day'].isin(rows_to_get)].copy()\n",
    "WHO5_boy_months = WHO5_boy[WHO5_boy['Day'].isin(rows_to_get)].copy()"
   ]
  },
  {
   "cell_type": "code",
   "execution_count": 5,
   "id": "640ee61f",
   "metadata": {},
   "outputs": [],
   "source": [
    "# Replace day with month using a new index  \n",
    "WHO5_girl_months.reset_index(inplace =True, drop=True)\n",
    "WHO5_boy_months.reset_index(inplace=True, drop=True)\n",
    "\n",
    "\n",
    "WHO5_girl_months.loc[:, \"age_months\"] = pd.Series(range(0, len(WHO5_girl_months) + 1))\n",
    "WHO5_boy_months.loc[:, \"age_months\"] = pd.Series(range(0, len(WHO5_boy_months) + 1))"
   ]
  },
  {
   "cell_type": "code",
   "execution_count": 6,
   "id": "69484d21",
   "metadata": {},
   "outputs": [],
   "source": [
    "WHO5_girl_months.drop(columns=['Day'], inplace=True)\n",
    "WHO5_boy_months.drop(columns=['Day'], inplace=True)"
   ]
  },
  {
   "cell_type": "code",
   "execution_count": 7,
   "id": "808d46f1",
   "metadata": {},
   "outputs": [],
   "source": [
    "#rename columns\n",
    "WHO19_girl = WHO19_girl.rename(columns={\"Month\": \"age_months\"})\n",
    "WHO19_boy = WHO19_boy.rename(columns={\"Month\": \"age_months\"})\n",
    "\n",
    "WHO_girl = pd.concat([WHO5_girl_months, WHO19_girl])\n",
    "WHO_boy = pd.concat([WHO5_boy_months, WHO19_boy])\n",
    "\n",
    "#add column for sex \n",
    "WHO_girl['sex'] = 2\n",
    "WHO_boy['sex'] = 1"
   ]
  },
  {
   "cell_type": "code",
   "execution_count": 8,
   "id": "d7a74c2d",
   "metadata": {},
   "outputs": [],
   "source": [
    "# Combine all to one df\n",
    "WHO  = pd.concat([WHO_boy, WHO_girl])\n",
    "\n",
    "# Change column order \n",
    "column_order = ['age_months','sex','L','M', 'S', 'SD4neg', 'SD3neg', 'SD2neg', 'SD1neg', 'SD0', 'SD1', 'SD2', 'SD3', 'SD4']\n",
    "WHO = WHO[column_order].copy()\n",
    "# drop columns if you want \n",
    "# WHO.drop(columns=['SD4neg', 'SD3neg', 'SD2neg', 'SD1neg',], inplace=True)"
   ]
  },
  {
   "cell_type": "code",
   "execution_count": 9,
   "id": "5647e2cf",
   "metadata": {},
   "outputs": [],
   "source": [
    "for index, row in WHO.iterrows():\n",
    "    difference = row['SD3']-row['SD2']\n",
    "    WHO.at[index, 'SD5'] = round(row['SD3'] + difference, 3) \n",
    "    WHO.at[index, 'SD6'] = round(row['SD3'] + difference*2, 3) \n",
    "    WHO.at[index, 'SD7'] = round(row['SD3'] + difference*3, 3) \n",
    "    WHO.at[index, 'SD8'] = round(row['SD3'] + difference*4, 3)"
   ]
  },
  {
   "cell_type": "code",
   "execution_count": 10,
   "id": "6462b44d",
   "metadata": {},
   "outputs": [],
   "source": [
    "# Final DataFrame \n",
    "WHO.to_csv(f\"{TODAYS_DATE}_WHO_original_clean.csv\", index=False)"
   ]
  },
  {
   "cell_type": "code",
   "execution_count": null,
   "id": "664731dd",
   "metadata": {},
   "outputs": [],
   "source": []
  }
 ],
 "metadata": {
  "hide_input": false,
  "kernelspec": {
   "display_name": "Python 3 (ipykernel)",
   "language": "python",
   "name": "python3"
  },
  "language_info": {
   "codemirror_mode": {
    "name": "ipython",
    "version": 3
   },
   "file_extension": ".py",
   "mimetype": "text/x-python",
   "name": "python",
   "nbconvert_exporter": "python",
   "pygments_lexer": "ipython3",
   "version": "3.10.11"
  },
  "toc": {
   "base_numbering": 1,
   "nav_menu": {},
   "number_sections": true,
   "sideBar": true,
   "skip_h1_title": false,
   "title_cell": "Table of Contents",
   "title_sidebar": "Contents",
   "toc_cell": false,
   "toc_position": {},
   "toc_section_display": true,
   "toc_window_display": false
  }
 },
 "nbformat": 4,
 "nbformat_minor": 5
}
